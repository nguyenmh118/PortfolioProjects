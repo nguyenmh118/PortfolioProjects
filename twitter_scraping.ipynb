{
 "cells": [
  {
   "cell_type": "code",
   "execution_count": 1,
   "metadata": {},
   "outputs": [],
   "source": [
    "import snscrape.modules.twitter as sntwitter\n",
    "import pandas as pd"
   ]
  },
  {
   "cell_type": "code",
   "execution_count": 2,
   "metadata": {},
   "outputs": [],
   "source": [
    "query = \"amazon fresh lang:en\"\n",
    "tweets = []\n",
    "limit = 10000\n",
    "lang = \"en\" "
   ]
  },
  {
   "cell_type": "code",
   "execution_count": 3,
   "metadata": {},
   "outputs": [
    {
     "name": "stderr",
     "output_type": "stream",
     "text": [
      "C:\\Users\\htmng\\AppData\\Local\\Temp\\ipykernel_13100\\245585759.py:8: FutureWarning: username is deprecated, use user.username instead\n",
      "  tweets.append([tweet.username, tweet.date , tweet.content])\n"
     ]
    }
   ],
   "source": [
    "for tweet in sntwitter.TwitterSearchScraper(query).get_items():\n",
    "    \n",
    "    # print(vars(tweet))\n",
    "    # break\n",
    "    if len(tweets) == limit:\n",
    "        break\n",
    "    else:\n",
    "        tweets.append([tweet.username, tweet.date , tweet.content])"
   ]
  },
  {
   "cell_type": "code",
   "execution_count": 4,
   "metadata": {},
   "outputs": [
    {
     "name": "stdout",
     "output_type": "stream",
     "text": [
      "                 Name                      Time  \\\n",
      "0      AashutoshwithA 2022-10-28 08:35:13+00:00   \n",
      "1     chicago_job_bot 2022-10-28 08:30:48+00:00   \n",
      "2        mieniaisacat 2022-10-28 08:26:28+00:00   \n",
      "3        BounceDeals_ 2022-10-28 08:14:07+00:00   \n",
      "4      shopshop_shop_ 2022-10-28 07:29:53+00:00   \n",
      "...               ...                       ...   \n",
      "9995   FreshEggsDaily 2022-08-16 23:16:16+00:00   \n",
      "9996        JNaoumoff 2022-08-16 23:03:47+00:00   \n",
      "9997       AmazonHelp 2022-08-16 22:51:30+00:00   \n",
      "9998  CouponaholicNet 2022-08-16 22:48:12+00:00   \n",
      "9999          Spaz_OL 2022-08-16 22:45:48+00:00   \n",
      "\n",
      "                                                Comment  \n",
      "0     13. Bone Tomahawk (2015) : Amazon Prime. \\n14....  \n",
      "1     Amazon Physical Stores is hiring in Chicago fo...  \n",
      "2     Like It👍 from Personal Care in Amazon\\n\\nSales...  \n",
      "3     Amazon Deal Found\\n\\nFinish - All in 1 - Dishw...  \n",
      "4     Cute Fresh Fruit Cover for QCY T13 Case TWS Bl...  \n",
      "...                                                 ...  \n",
      "9995  Okay MIND BLOWN! \\nThe Fresh Eggs Daily Cookbo...  \n",
      "9996  Went into the @AmazonFresh shop in Chancery La...  \n",
      "9997  @Spaz_OL Hi there. You can find information on...  \n",
      "9998  AmazonFresh Coffee K-Cups Variety Pack 60 ct O...  \n",
      "9999  @AmazonFresh Your order confirmation emails sa...  \n",
      "\n",
      "[10000 rows x 3 columns]\n"
     ]
    }
   ],
   "source": [
    "df = pd.DataFrame(tweets, columns=['Name', 'Time', 'Comment'])\n",
    "print(df)"
   ]
  },
  {
   "cell_type": "code",
   "execution_count": 5,
   "metadata": {},
   "outputs": [],
   "source": [
    "df.to_csv(\"tweets_amazonfresh.csv\")"
   ]
  }
 ],
 "metadata": {
  "kernelspec": {
   "display_name": "Python 3.10.7 64-bit",
   "language": "python",
   "name": "python3"
  },
  "language_info": {
   "codemirror_mode": {
    "name": "ipython",
    "version": 3
   },
   "file_extension": ".py",
   "mimetype": "text/x-python",
   "name": "python",
   "nbconvert_exporter": "python",
   "pygments_lexer": "ipython3",
   "version": "3.10.7"
  },
  "orig_nbformat": 4,
  "vscode": {
   "interpreter": {
    "hash": "369f2c481f4da34e4445cda3fffd2e751bd1c4d706f27375911949ba6bb62e1c"
   }
  }
 },
 "nbformat": 4,
 "nbformat_minor": 2
}
