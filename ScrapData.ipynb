{
  "nbformat": 4,
  "nbformat_minor": 0,
  "metadata": {
    "colab": {
      "provenance": []
    },
    "kernelspec": {
      "name": "python3",
      "display_name": "Python 3"
    },
    "language_info": {
      "name": "python"
    }
  },
  "cells": [
    {
      "cell_type": "code",
      "source": [
        "#importing the libraries needed \n",
        "import pandas as pd\n",
        "import numpy as np\n",
        "import requests\n",
        "from bs4 import BeautifulSoup\n",
        "from time import sleep\n",
        "from random import randint"
      ],
      "metadata": {
        "id": "l4Wl2ugS1hzY"
      },
      "execution_count": null,
      "outputs": []
    },
    {
      "cell_type": "code",
      "source": [
        "#Declaring the headers \n",
        "headers = {\"Accept-Language\": \"en-US,en;q=0.5\"}\n"
      ],
      "metadata": {
        "id": "xCvuEhaWU1t0"
      },
      "execution_count": null,
      "outputs": []
    },
    {
      "cell_type": "code",
      "source": [
        "#creating an empty list, so that we can append the values\n",
        "movie_name = []\n",
        "genres = []\n",
        "year = []\n",
        "time = []\n",
        "rating = []\n",
        "metascore = []\n",
        "votes = []\n"
      ],
      "metadata": {
        "id": "l9JW-vz-83S0"
      },
      "execution_count": null,
      "outputs": []
    },
    {
      "cell_type": "code",
      "source": [
        "#creating an array of values and passing it in the url for dynamic webpages\n",
        "pages = np.arange(1,1000,100)"
      ],
      "metadata": {
        "id": "SkUfx7ZfU70Z"
      },
      "execution_count": null,
      "outputs": []
    },
    {
      "cell_type": "code",
      "source": [
        "for page in pages:\n",
        "    page = requests.get(\"https://www.imdb.com/search/title/?groups=top_1000&sort=user_rating,desc&count=100&start=\"+str(page)+\"&ref_=adv_nxt\")\n",
        "    soup = BeautifulSoup(page.text, 'html.parser')\n",
        "    movie_data = soup.findAll('div', attrs = {'class': 'lister-item mode-advanced'})\n",
        "    sleep(randint(2,8))\n",
        "    #calling one by one using for loop\n",
        "    for store in movie_data:\n",
        "        name = store.h3.a.text\n",
        "        movie_name.append(name)\n",
        "        \n",
        "        genre = store.p.find('span', class_ = 'genre').text.replace('\\n', '')\n",
        "        genres.append(genre)\n",
        "\n",
        "        year_of_release = store.h3.find('span', class_ = 'lister-item-year text-muted unbold').text.replace('(', '').replace(')', '')\n",
        "        year.append(year_of_release)\n",
        "        \n",
        "        runtime = store.p.find('span', class_ = 'runtime').text.replace(' min', '')\n",
        "        time.append(runtime)\n",
        "        \n",
        "        rate = store.find('div', class_ = 'inline-block ratings-imdb-rating').text.replace('\\n', '')\n",
        "        rating.append(rate)\n",
        "        \n",
        "        meta  = store.find('span', class_ = 'metascore').text.replace(' ', '') if store.find('span', class_ = 'metascore') else '^^^^^^'\n",
        "        metascore.append(meta)\n",
        "\n",
        "        value = store.find_all('span', attrs = {'name': 'nv'})\n",
        "        vote = value[0].text\n",
        "        votes.append(vote)\n"
      ],
      "metadata": {
        "id": "Hpk_HSYdVBYe"
      },
      "execution_count": null,
      "outputs": []
    },
    {
      "cell_type": "code",
      "source": [
        "#creating a dataframe using pandas library\n",
        "movie_DF = pd.DataFrame({'Name of movie': movie_name, 'Genres':genres, 'Year of release': year, 'Watch time': time, 'Movie Rating': rating, 'Meta score': metascore, 'Votes':votes})\n",
        "movie_DF"
      ],
      "metadata": {
        "colab": {
          "base_uri": "https://localhost:8080/",
          "height": 424
        },
        "id": "Mc3MiuXNNSZe",
        "outputId": "47be9559-39a5-4b5c-ee34-eccd99913ab6"
      },
      "execution_count": null,
      "outputs": [
        {
          "output_type": "execute_result",
          "data": {
            "text/plain": [
              "    Name of movie                                    Genres Year of release  \\\n",
              "0          刺激1995                         Drama                        1994   \n",
              "1              教父                  Crime, Drama                        1972   \n",
              "2            黑暗騎士          Action, Crime, Drama                        2008   \n",
              "3      魔戒三部曲：王者再臨      Action, Adventure, Drama                        2003   \n",
              "4          辛德勒的名單     Biography, Drama, History                        1993   \n",
              "..            ...                                       ...             ...   \n",
              "995           龍鳳配        Comedy, Drama, Romance                        1954   \n",
              "996          亂世忠魂           Drama, Romance, War                        1953   \n",
              "997          白雪公主  Animation, Adventure, Family                        1937   \n",
              "998         國防大機密      Crime, Mystery, Thriller                        1935   \n",
              "999           隱形人                Horror, Sci-Fi                        1933   \n",
              "\n",
              "    Watch time Movie Rating Meta score      Votes  \n",
              "0          142          9.3         81  2,651,602  \n",
              "1          175          9.2        100  1,838,082  \n",
              "2          152          9.0         84  2,623,775  \n",
              "3          201          9.0         94  1,827,506  \n",
              "4          195          9.0         94  1,343,676  \n",
              "..         ...          ...        ...        ...  \n",
              "995        113          7.6         72     65,451  \n",
              "996        118          7.6         85     47,307  \n",
              "997         83          7.6         95    199,572  \n",
              "998         86          7.6         93     57,361  \n",
              "999         71          7.6         87     35,546  \n",
              "\n",
              "[1000 rows x 7 columns]"
            ],
            "text/html": [
              "\n",
              "  <div id=\"df-5e9ce028-95d3-4e91-a061-b99f06608f1f\">\n",
              "    <div class=\"colab-df-container\">\n",
              "      <div>\n",
              "<style scoped>\n",
              "    .dataframe tbody tr th:only-of-type {\n",
              "        vertical-align: middle;\n",
              "    }\n",
              "\n",
              "    .dataframe tbody tr th {\n",
              "        vertical-align: top;\n",
              "    }\n",
              "\n",
              "    .dataframe thead th {\n",
              "        text-align: right;\n",
              "    }\n",
              "</style>\n",
              "<table border=\"1\" class=\"dataframe\">\n",
              "  <thead>\n",
              "    <tr style=\"text-align: right;\">\n",
              "      <th></th>\n",
              "      <th>Name of movie</th>\n",
              "      <th>Genres</th>\n",
              "      <th>Year of release</th>\n",
              "      <th>Watch time</th>\n",
              "      <th>Movie Rating</th>\n",
              "      <th>Meta score</th>\n",
              "      <th>Votes</th>\n",
              "    </tr>\n",
              "  </thead>\n",
              "  <tbody>\n",
              "    <tr>\n",
              "      <th>0</th>\n",
              "      <td>刺激1995</td>\n",
              "      <td>Drama</td>\n",
              "      <td>1994</td>\n",
              "      <td>142</td>\n",
              "      <td>9.3</td>\n",
              "      <td>81</td>\n",
              "      <td>2,651,602</td>\n",
              "    </tr>\n",
              "    <tr>\n",
              "      <th>1</th>\n",
              "      <td>教父</td>\n",
              "      <td>Crime, Drama</td>\n",
              "      <td>1972</td>\n",
              "      <td>175</td>\n",
              "      <td>9.2</td>\n",
              "      <td>100</td>\n",
              "      <td>1,838,082</td>\n",
              "    </tr>\n",
              "    <tr>\n",
              "      <th>2</th>\n",
              "      <td>黑暗騎士</td>\n",
              "      <td>Action, Crime, Drama</td>\n",
              "      <td>2008</td>\n",
              "      <td>152</td>\n",
              "      <td>9.0</td>\n",
              "      <td>84</td>\n",
              "      <td>2,623,775</td>\n",
              "    </tr>\n",
              "    <tr>\n",
              "      <th>3</th>\n",
              "      <td>魔戒三部曲：王者再臨</td>\n",
              "      <td>Action, Adventure, Drama</td>\n",
              "      <td>2003</td>\n",
              "      <td>201</td>\n",
              "      <td>9.0</td>\n",
              "      <td>94</td>\n",
              "      <td>1,827,506</td>\n",
              "    </tr>\n",
              "    <tr>\n",
              "      <th>4</th>\n",
              "      <td>辛德勒的名單</td>\n",
              "      <td>Biography, Drama, History</td>\n",
              "      <td>1993</td>\n",
              "      <td>195</td>\n",
              "      <td>9.0</td>\n",
              "      <td>94</td>\n",
              "      <td>1,343,676</td>\n",
              "    </tr>\n",
              "    <tr>\n",
              "      <th>...</th>\n",
              "      <td>...</td>\n",
              "      <td>...</td>\n",
              "      <td>...</td>\n",
              "      <td>...</td>\n",
              "      <td>...</td>\n",
              "      <td>...</td>\n",
              "      <td>...</td>\n",
              "    </tr>\n",
              "    <tr>\n",
              "      <th>995</th>\n",
              "      <td>龍鳳配</td>\n",
              "      <td>Comedy, Drama, Romance</td>\n",
              "      <td>1954</td>\n",
              "      <td>113</td>\n",
              "      <td>7.6</td>\n",
              "      <td>72</td>\n",
              "      <td>65,451</td>\n",
              "    </tr>\n",
              "    <tr>\n",
              "      <th>996</th>\n",
              "      <td>亂世忠魂</td>\n",
              "      <td>Drama, Romance, War</td>\n",
              "      <td>1953</td>\n",
              "      <td>118</td>\n",
              "      <td>7.6</td>\n",
              "      <td>85</td>\n",
              "      <td>47,307</td>\n",
              "    </tr>\n",
              "    <tr>\n",
              "      <th>997</th>\n",
              "      <td>白雪公主</td>\n",
              "      <td>Animation, Adventure, Family</td>\n",
              "      <td>1937</td>\n",
              "      <td>83</td>\n",
              "      <td>7.6</td>\n",
              "      <td>95</td>\n",
              "      <td>199,572</td>\n",
              "    </tr>\n",
              "    <tr>\n",
              "      <th>998</th>\n",
              "      <td>國防大機密</td>\n",
              "      <td>Crime, Mystery, Thriller</td>\n",
              "      <td>1935</td>\n",
              "      <td>86</td>\n",
              "      <td>7.6</td>\n",
              "      <td>93</td>\n",
              "      <td>57,361</td>\n",
              "    </tr>\n",
              "    <tr>\n",
              "      <th>999</th>\n",
              "      <td>隱形人</td>\n",
              "      <td>Horror, Sci-Fi</td>\n",
              "      <td>1933</td>\n",
              "      <td>71</td>\n",
              "      <td>7.6</td>\n",
              "      <td>87</td>\n",
              "      <td>35,546</td>\n",
              "    </tr>\n",
              "  </tbody>\n",
              "</table>\n",
              "<p>1000 rows × 7 columns</p>\n",
              "</div>\n",
              "      <button class=\"colab-df-convert\" onclick=\"convertToInteractive('df-5e9ce028-95d3-4e91-a061-b99f06608f1f')\"\n",
              "              title=\"Convert this dataframe to an interactive table.\"\n",
              "              style=\"display:none;\">\n",
              "        \n",
              "  <svg xmlns=\"http://www.w3.org/2000/svg\" height=\"24px\"viewBox=\"0 0 24 24\"\n",
              "       width=\"24px\">\n",
              "    <path d=\"M0 0h24v24H0V0z\" fill=\"none\"/>\n",
              "    <path d=\"M18.56 5.44l.94 2.06.94-2.06 2.06-.94-2.06-.94-.94-2.06-.94 2.06-2.06.94zm-11 1L8.5 8.5l.94-2.06 2.06-.94-2.06-.94L8.5 2.5l-.94 2.06-2.06.94zm10 10l.94 2.06.94-2.06 2.06-.94-2.06-.94-.94-2.06-.94 2.06-2.06.94z\"/><path d=\"M17.41 7.96l-1.37-1.37c-.4-.4-.92-.59-1.43-.59-.52 0-1.04.2-1.43.59L10.3 9.45l-7.72 7.72c-.78.78-.78 2.05 0 2.83L4 21.41c.39.39.9.59 1.41.59.51 0 1.02-.2 1.41-.59l7.78-7.78 2.81-2.81c.8-.78.8-2.07 0-2.86zM5.41 20L4 18.59l7.72-7.72 1.47 1.35L5.41 20z\"/>\n",
              "  </svg>\n",
              "      </button>\n",
              "      \n",
              "  <style>\n",
              "    .colab-df-container {\n",
              "      display:flex;\n",
              "      flex-wrap:wrap;\n",
              "      gap: 12px;\n",
              "    }\n",
              "\n",
              "    .colab-df-convert {\n",
              "      background-color: #E8F0FE;\n",
              "      border: none;\n",
              "      border-radius: 50%;\n",
              "      cursor: pointer;\n",
              "      display: none;\n",
              "      fill: #1967D2;\n",
              "      height: 32px;\n",
              "      padding: 0 0 0 0;\n",
              "      width: 32px;\n",
              "    }\n",
              "\n",
              "    .colab-df-convert:hover {\n",
              "      background-color: #E2EBFA;\n",
              "      box-shadow: 0px 1px 2px rgba(60, 64, 67, 0.3), 0px 1px 3px 1px rgba(60, 64, 67, 0.15);\n",
              "      fill: #174EA6;\n",
              "    }\n",
              "\n",
              "    [theme=dark] .colab-df-convert {\n",
              "      background-color: #3B4455;\n",
              "      fill: #D2E3FC;\n",
              "    }\n",
              "\n",
              "    [theme=dark] .colab-df-convert:hover {\n",
              "      background-color: #434B5C;\n",
              "      box-shadow: 0px 1px 3px 1px rgba(0, 0, 0, 0.15);\n",
              "      filter: drop-shadow(0px 1px 2px rgba(0, 0, 0, 0.3));\n",
              "      fill: #FFFFFF;\n",
              "    }\n",
              "  </style>\n",
              "\n",
              "      <script>\n",
              "        const buttonEl =\n",
              "          document.querySelector('#df-5e9ce028-95d3-4e91-a061-b99f06608f1f button.colab-df-convert');\n",
              "        buttonEl.style.display =\n",
              "          google.colab.kernel.accessAllowed ? 'block' : 'none';\n",
              "\n",
              "        async function convertToInteractive(key) {\n",
              "          const element = document.querySelector('#df-5e9ce028-95d3-4e91-a061-b99f06608f1f');\n",
              "          const dataTable =\n",
              "            await google.colab.kernel.invokeFunction('convertToInteractive',\n",
              "                                                     [key], {});\n",
              "          if (!dataTable) return;\n",
              "\n",
              "          const docLinkHtml = 'Like what you see? Visit the ' +\n",
              "            '<a target=\"_blank\" href=https://colab.research.google.com/notebooks/data_table.ipynb>data table notebook</a>'\n",
              "            + ' to learn more about interactive tables.';\n",
              "          element.innerHTML = '';\n",
              "          dataTable['output_type'] = 'display_data';\n",
              "          await google.colab.output.renderOutput(dataTable, element);\n",
              "          const docLink = document.createElement('div');\n",
              "          docLink.innerHTML = docLinkHtml;\n",
              "          element.appendChild(docLink);\n",
              "        }\n",
              "      </script>\n",
              "    </div>\n",
              "  </div>\n",
              "  "
            ]
          },
          "metadata": {},
          "execution_count": 6
        }
      ]
    },
    {
      "cell_type": "code",
      "source": [
        "movie_DF.to_csv(\"Top_1000_IMDB_Movies.csv\")"
      ],
      "metadata": {
        "id": "DLnHPWM7DffC"
      },
      "execution_count": null,
      "outputs": []
    },
    {
      "cell_type": "code",
      "source": [
        "pip install pyspark"
      ],
      "metadata": {
        "colab": {
          "base_uri": "https://localhost:8080/"
        },
        "id": "KgURmy1ObFw-",
        "outputId": "18e3a71f-6b33-4de3-b2ae-b03156ef483e"
      },
      "execution_count": null,
      "outputs": [
        {
          "output_type": "stream",
          "name": "stdout",
          "text": [
            "Looking in indexes: https://pypi.org/simple, https://us-python.pkg.dev/colab-wheels/public/simple/\n",
            "Collecting pyspark\n",
            "  Downloading pyspark-3.3.0.tar.gz (281.3 MB)\n",
            "\u001b[K     |████████████████████████████████| 281.3 MB 38 kB/s \n",
            "\u001b[?25hCollecting py4j==0.10.9.5\n",
            "  Downloading py4j-0.10.9.5-py2.py3-none-any.whl (199 kB)\n",
            "\u001b[K     |████████████████████████████████| 199 kB 44.4 MB/s \n",
            "\u001b[?25hBuilding wheels for collected packages: pyspark\n",
            "  Building wheel for pyspark (setup.py) ... \u001b[?25l\u001b[?25hdone\n",
            "  Created wheel for pyspark: filename=pyspark-3.3.0-py2.py3-none-any.whl size=281764026 sha256=b84a771adf185b4c2090c4577f52b30bcf835852e28777afdb8e74fe5f1ab3d8\n",
            "  Stored in directory: /root/.cache/pip/wheels/7a/8e/1b/f73a52650d2e5f337708d9f6a1750d451a7349a867f928b885\n",
            "Successfully built pyspark\n",
            "Installing collected packages: py4j, pyspark\n",
            "Successfully installed py4j-0.10.9.5 pyspark-3.3.0\n"
          ]
        }
      ]
    },
    {
      "cell_type": "markdown",
      "source": [
        "sử dụng PySpark để load dữ liệu \n",
        "từ file csv thu thập được. "
      ],
      "metadata": {
        "id": "1hCY99kYcaR6"
      }
    },
    {
      "cell_type": "code",
      "source": [
        "from pyspark.sql import SparkSession\n",
        "from pyspark.sql.functions import *\n",
        "spark = SparkSession.builder.appName(\"BT2_HoThiMinhNguyen\").getOrCreate()\n",
        "movie_DF = spark.read.csv('Top_1000_IMDB_Movies.csv',header=True,inferSchema=True)\n",
        "MOVIE_DF = movie_DF\n",
        "MOVIE_DF.show(10)\n",
        "MOVIE_DF.printSchema()"
      ],
      "metadata": {
        "colab": {
          "base_uri": "https://localhost:8080/"
        },
        "id": "Fb2ZrfIDbIR2",
        "outputId": "9bbdba01-f75e-4323-cc99-9a02ac093f26"
      },
      "execution_count": null,
      "outputs": [
        {
          "output_type": "stream",
          "name": "stdout",
          "text": [
            "+---+--------------------+--------------------+---------------+----------+------------+----------+---------+\n",
            "|_c0|       Name of movie|              Genres|Year of release|Watch time|Movie Rating|Meta score|    Votes|\n",
            "+---+--------------------+--------------------+---------------+----------+------------+----------+---------+\n",
            "|  0|            刺激1995|   Drama            |           1994|       142|         9.3|        81|2,651,602|\n",
            "|  1|                教父|Crime, Drama     ...|           1972|       175|         9.2|       100|1,838,082|\n",
            "|  2|            黑暗騎士|Action, Crime, Dr...|           2008|       152|         9.0|        84|2,623,775|\n",
            "|  3|魔戒三部曲：王者再臨|Action, Adventure...|           2003|       201|         9.0|        94|1,827,506|\n",
            "|  4|        辛德勒的名單|Biography, Drama,...|           1993|       195|         9.0|        94|1,343,676|\n",
            "|  5|               教父2|Crime, Drama     ...|           1974|       202|         9.0|        90|1,259,487|\n",
            "|  6|            十二怒漢|Crime, Drama     ...|           1957|        96|         9.0|        96|  782,913|\n",
            "|  7|Rocketry: The Nam...|Biography, Drama ...|           2022|       157|         8.9|    ^^^^^^|   47,443|\n",
            "|  8|            Jai Bhim|Crime, Drama, Mys...|           2021|       164|         8.9|    ^^^^^^|  199,505|\n",
            "|  9|          黑色追緝令|Crime, Drama     ...|           1994|       154|         8.9|        94|2,029,720|\n",
            "+---+--------------------+--------------------+---------------+----------+------------+----------+---------+\n",
            "only showing top 10 rows\n",
            "\n",
            "root\n",
            " |-- _c0: integer (nullable = true)\n",
            " |-- Name of movie: string (nullable = true)\n",
            " |-- Genres: string (nullable = true)\n",
            " |-- Year of release: string (nullable = true)\n",
            " |-- Watch time: integer (nullable = true)\n",
            " |-- Movie Rating: double (nullable = true)\n",
            " |-- Meta score: string (nullable = true)\n",
            " |-- Votes: string (nullable = true)\n",
            "\n"
          ]
        }
      ]
    }
  ]
}